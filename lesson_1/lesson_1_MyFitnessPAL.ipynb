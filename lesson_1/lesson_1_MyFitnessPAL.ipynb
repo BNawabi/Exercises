{
 "cells": [
  {
   "cell_type": "code",
   "execution_count": 18,
   "metadata": {},
   "outputs": [
    {
     "name": "stdout",
     "output_type": "stream",
     "text": [
      "You ate 487.0 grams of calories\n",
      "You ate 24.0 grams of fat\n",
      "You ate 63.0 grams of carbs\n",
      "You ate 47.0 grams of sugar\n"
     ]
    }
   ],
   "source": [
    "# Nutrition of a Snicker Bar /100gr \n",
    "\n",
    "calories = 487\n",
    "fat = 24\n",
    "carbs =  63\n",
    "sugar =  47\n",
    "\n",
    "amount = input(\"How many snickerbars did you eat? \")\n",
    "\n",
    "amount_calories = float(amount) * calories\n",
    "print(\"You ate \" + str(amount_calories) + \" grams of calories\")\n",
    "\n",
    "amount_fat = float(amount) * fat\n",
    "print(\"You ate \" + str(amount_fat) + \" grams of fat\")\n",
    "\n",
    "amount_carbs = float(amount) * carbs\n",
    "print(\"You ate \" + str(amount_carbs) + \" grams of carbs\")\n",
    "\n",
    "amount_sugar = float(amount) * sugar\n",
    "print(\"You ate \" + str(amount_sugar) + \" grams of sugar\")"
   ]
  },
  {
   "cell_type": "code",
   "execution_count": null,
   "metadata": {},
   "outputs": [],
   "source": []
  }
 ],
 "metadata": {
  "kernelspec": {
   "display_name": "Python 3",
   "language": "python",
   "name": "python3"
  },
  "language_info": {
   "codemirror_mode": {
    "name": "ipython",
    "version": 3
   },
   "file_extension": ".py",
   "mimetype": "text/x-python",
   "name": "python",
   "nbconvert_exporter": "python",
   "pygments_lexer": "ipython3",
   "version": "3.6.5"
  }
 },
 "nbformat": 4,
 "nbformat_minor": 2
}
